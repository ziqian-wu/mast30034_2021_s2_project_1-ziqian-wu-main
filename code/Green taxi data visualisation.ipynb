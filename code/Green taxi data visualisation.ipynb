{
 "cells": [
  {
   "cell_type": "code",
   "execution_count": 1,
   "source": [
    "import pandas as pd\n",
    "import numpy as np\n",
    "import seaborn as sns\n",
    "import matplotlib.pyplot as plt\n",
    "import matplotlib.mlab as mlab\n",
    "\n",
    "\n",
    "\n",
    "import folium\n",
    "# a nice way of filtering out deprecated warnings\n",
    "import warnings\n",
    "warnings.filterwarnings(\"ignore\")\n",
    "from bokeh.plotting import figure, show\n",
    "from bokeh.tile_providers import get_provider, Vendors\n",
    "\n",
    "from folium.plugins import FastMarkerCluster\n",
    "from folium.plugins import HeatMap\n",
    "\n",
    "# to display bokeh plots inside jupyter, we need to use output_notebook\n",
    "from bokeh.io import save, reset_output, output_notebook\n",
    "\n",
    "TILE = get_provider(\"STAMEN_TERRAIN_RETINA\")\n",
    "reset_output()\n",
    "output_notebook()"
   ],
   "outputs": [
    {
     "output_type": "display_data",
     "data": {
      "text/html": [
       "\n",
       "    <div class=\"bk-root\">\n",
       "        <a href=\"https://bokeh.org\" target=\"_blank\" class=\"bk-logo bk-logo-small bk-logo-notebook\"></a>\n",
       "        <span id=\"1002\">Loading BokehJS ...</span>\n",
       "    </div>"
      ]
     },
     "metadata": {}
    },
    {
     "output_type": "display_data",
     "data": {
      "application/javascript": "\n(function(root) {\n  function now() {\n    return new Date();\n  }\n\n  var force = true;\n\n  if (typeof root._bokeh_onload_callbacks === \"undefined\" || force === true) {\n    root._bokeh_onload_callbacks = [];\n    root._bokeh_is_loading = undefined;\n  }\n\n  var JS_MIME_TYPE = 'application/javascript';\n  var HTML_MIME_TYPE = 'text/html';\n  var EXEC_MIME_TYPE = 'application/vnd.bokehjs_exec.v0+json';\n  var CLASS_NAME = 'output_bokeh rendered_html';\n\n  /**\n   * Render data to the DOM node\n   */\n  function render(props, node) {\n    var script = document.createElement(\"script\");\n    node.appendChild(script);\n  }\n\n  /**\n   * Handle when an output is cleared or removed\n   */\n  function handleClearOutput(event, handle) {\n    var cell = handle.cell;\n\n    var id = cell.output_area._bokeh_element_id;\n    var server_id = cell.output_area._bokeh_server_id;\n    // Clean up Bokeh references\n    if (id != null && id in Bokeh.index) {\n      Bokeh.index[id].model.document.clear();\n      delete Bokeh.index[id];\n    }\n\n    if (server_id !== undefined) {\n      // Clean up Bokeh references\n      var cmd = \"from bokeh.io.state import curstate; print(curstate().uuid_to_server['\" + server_id + \"'].get_sessions()[0].document.roots[0]._id)\";\n      cell.notebook.kernel.execute(cmd, {\n        iopub: {\n          output: function(msg) {\n            var id = msg.content.text.trim();\n            if (id in Bokeh.index) {\n              Bokeh.index[id].model.document.clear();\n              delete Bokeh.index[id];\n            }\n          }\n        }\n      });\n      // Destroy server and session\n      var cmd = \"import bokeh.io.notebook as ion; ion.destroy_server('\" + server_id + \"')\";\n      cell.notebook.kernel.execute(cmd);\n    }\n  }\n\n  /**\n   * Handle when a new output is added\n   */\n  function handleAddOutput(event, handle) {\n    var output_area = handle.output_area;\n    var output = handle.output;\n\n    // limit handleAddOutput to display_data with EXEC_MIME_TYPE content only\n    if ((output.output_type != \"display_data\") || (!output.data.hasOwnProperty(EXEC_MIME_TYPE))) {\n      return\n    }\n\n    var toinsert = output_area.element.find(\".\" + CLASS_NAME.split(' ')[0]);\n\n    if (output.metadata[EXEC_MIME_TYPE][\"id\"] !== undefined) {\n      toinsert[toinsert.length - 1].firstChild.textContent = output.data[JS_MIME_TYPE];\n      // store reference to embed id on output_area\n      output_area._bokeh_element_id = output.metadata[EXEC_MIME_TYPE][\"id\"];\n    }\n    if (output.metadata[EXEC_MIME_TYPE][\"server_id\"] !== undefined) {\n      var bk_div = document.createElement(\"div\");\n      bk_div.innerHTML = output.data[HTML_MIME_TYPE];\n      var script_attrs = bk_div.children[0].attributes;\n      for (var i = 0; i < script_attrs.length; i++) {\n        toinsert[toinsert.length - 1].firstChild.setAttribute(script_attrs[i].name, script_attrs[i].value);\n        toinsert[toinsert.length - 1].firstChild.textContent = bk_div.children[0].textContent\n      }\n      // store reference to server id on output_area\n      output_area._bokeh_server_id = output.metadata[EXEC_MIME_TYPE][\"server_id\"];\n    }\n  }\n\n  function register_renderer(events, OutputArea) {\n\n    function append_mime(data, metadata, element) {\n      // create a DOM node to render to\n      var toinsert = this.create_output_subarea(\n        metadata,\n        CLASS_NAME,\n        EXEC_MIME_TYPE\n      );\n      this.keyboard_manager.register_events(toinsert);\n      // Render to node\n      var props = {data: data, metadata: metadata[EXEC_MIME_TYPE]};\n      render(props, toinsert[toinsert.length - 1]);\n      element.append(toinsert);\n      return toinsert\n    }\n\n    /* Handle when an output is cleared or removed */\n    events.on('clear_output.CodeCell', handleClearOutput);\n    events.on('delete.Cell', handleClearOutput);\n\n    /* Handle when a new output is added */\n    events.on('output_added.OutputArea', handleAddOutput);\n\n    /**\n     * Register the mime type and append_mime function with output_area\n     */\n    OutputArea.prototype.register_mime_type(EXEC_MIME_TYPE, append_mime, {\n      /* Is output safe? */\n      safe: true,\n      /* Index of renderer in `output_area.display_order` */\n      index: 0\n    });\n  }\n\n  // register the mime type if in Jupyter Notebook environment and previously unregistered\n  if (root.Jupyter !== undefined) {\n    var events = require('base/js/events');\n    var OutputArea = require('notebook/js/outputarea').OutputArea;\n\n    if (OutputArea.prototype.mime_types().indexOf(EXEC_MIME_TYPE) == -1) {\n      register_renderer(events, OutputArea);\n    }\n  }\n\n  \n  if (typeof (root._bokeh_timeout) === \"undefined\" || force === true) {\n    root._bokeh_timeout = Date.now() + 5000;\n    root._bokeh_failed_load = false;\n  }\n\n  var NB_LOAD_WARNING = {'data': {'text/html':\n     \"<div style='background-color: #fdd'>\\n\"+\n     \"<p>\\n\"+\n     \"BokehJS does not appear to have successfully loaded. If loading BokehJS from CDN, this \\n\"+\n     \"may be due to a slow or bad network connection. Possible fixes:\\n\"+\n     \"</p>\\n\"+\n     \"<ul>\\n\"+\n     \"<li>re-rerun `output_notebook()` to attempt to load from CDN again, or</li>\\n\"+\n     \"<li>use INLINE resources instead, as so:</li>\\n\"+\n     \"</ul>\\n\"+\n     \"<code>\\n\"+\n     \"from bokeh.resources import INLINE\\n\"+\n     \"output_notebook(resources=INLINE)\\n\"+\n     \"</code>\\n\"+\n     \"</div>\"}};\n\n  function display_loaded() {\n    var el = document.getElementById(\"1002\");\n    if (el != null) {\n      el.textContent = \"BokehJS is loading...\";\n    }\n    if (root.Bokeh !== undefined) {\n      if (el != null) {\n        el.textContent = \"BokehJS \" + root.Bokeh.version + \" successfully loaded.\";\n      }\n    } else if (Date.now() < root._bokeh_timeout) {\n      setTimeout(display_loaded, 100)\n    }\n  }\n\n\n  function run_callbacks() {\n    try {\n      root._bokeh_onload_callbacks.forEach(function(callback) {\n        if (callback != null)\n          callback();\n      });\n    } finally {\n      delete root._bokeh_onload_callbacks\n    }\n    console.debug(\"Bokeh: all callbacks have finished\");\n  }\n\n  function load_libs(css_urls, js_urls, callback) {\n    if (css_urls == null) css_urls = [];\n    if (js_urls == null) js_urls = [];\n\n    root._bokeh_onload_callbacks.push(callback);\n    if (root._bokeh_is_loading > 0) {\n      console.debug(\"Bokeh: BokehJS is being loaded, scheduling callback at\", now());\n      return null;\n    }\n    if (js_urls == null || js_urls.length === 0) {\n      run_callbacks();\n      return null;\n    }\n    console.debug(\"Bokeh: BokehJS not loaded, scheduling load and callback at\", now());\n    root._bokeh_is_loading = css_urls.length + js_urls.length;\n\n    function on_load() {\n      root._bokeh_is_loading--;\n      if (root._bokeh_is_loading === 0) {\n        console.debug(\"Bokeh: all BokehJS libraries/stylesheets loaded\");\n        run_callbacks()\n      }\n    }\n\n    function on_error() {\n      console.error(\"failed to load \" + url);\n    }\n\n    for (var i = 0; i < css_urls.length; i++) {\n      var url = css_urls[i];\n      const element = document.createElement(\"link\");\n      element.onload = on_load;\n      element.onerror = on_error;\n      element.rel = \"stylesheet\";\n      element.type = \"text/css\";\n      element.href = url;\n      console.debug(\"Bokeh: injecting link tag for BokehJS stylesheet: \", url);\n      document.body.appendChild(element);\n    }\n\n    const hashes = {\"https://cdn.bokeh.org/bokeh/release/bokeh-2.2.3.min.js\": \"T2yuo9Oe71Cz/I4X9Ac5+gpEa5a8PpJCDlqKYO0CfAuEszu1JrXLl8YugMqYe3sM\", \"https://cdn.bokeh.org/bokeh/release/bokeh-widgets-2.2.3.min.js\": \"98GDGJ0kOMCUMUePhksaQ/GYgB3+NH9h996V88sh3aOiUNX3N+fLXAtry6xctSZ6\", \"https://cdn.bokeh.org/bokeh/release/bokeh-tables-2.2.3.min.js\": \"89bArO+nlbP3sgakeHjCo1JYxYR5wufVgA3IbUvDY+K7w4zyxJqssu7wVnfeKCq8\"};\n\n    for (var i = 0; i < js_urls.length; i++) {\n      var url = js_urls[i];\n      var element = document.createElement('script');\n      element.onload = on_load;\n      element.onerror = on_error;\n      element.async = false;\n      element.src = url;\n      if (url in hashes) {\n        element.crossOrigin = \"anonymous\";\n        element.integrity = \"sha384-\" + hashes[url];\n      }\n      console.debug(\"Bokeh: injecting script tag for BokehJS library: \", url);\n      document.head.appendChild(element);\n    }\n  };\n\n  function inject_raw_css(css) {\n    const element = document.createElement(\"style\");\n    element.appendChild(document.createTextNode(css));\n    document.body.appendChild(element);\n  }\n\n  \n  var js_urls = [\"https://cdn.bokeh.org/bokeh/release/bokeh-2.2.3.min.js\", \"https://cdn.bokeh.org/bokeh/release/bokeh-widgets-2.2.3.min.js\", \"https://cdn.bokeh.org/bokeh/release/bokeh-tables-2.2.3.min.js\"];\n  var css_urls = [];\n  \n\n  var inline_js = [\n    function(Bokeh) {\n      Bokeh.set_log_level(\"info\");\n    },\n    function(Bokeh) {\n    \n    \n    }\n  ];\n\n  function run_inline_js() {\n    \n    if (root.Bokeh !== undefined || force === true) {\n      \n    for (var i = 0; i < inline_js.length; i++) {\n      inline_js[i].call(root, root.Bokeh);\n    }\n    if (force === true) {\n        display_loaded();\n      }} else if (Date.now() < root._bokeh_timeout) {\n      setTimeout(run_inline_js, 100);\n    } else if (!root._bokeh_failed_load) {\n      console.log(\"Bokeh: BokehJS failed to load within specified timeout.\");\n      root._bokeh_failed_load = true;\n    } else if (force !== true) {\n      var cell = $(document.getElementById(\"1002\")).parents('.cell').data().cell;\n      cell.output_area.append_execute_result(NB_LOAD_WARNING)\n    }\n\n  }\n\n  if (root._bokeh_is_loading === 0) {\n    console.debug(\"Bokeh: BokehJS loaded, going straight to plotting\");\n    run_inline_js();\n  } else {\n    load_libs(css_urls, js_urls, function() {\n      console.debug(\"Bokeh: BokehJS plotting callback run at\", now());\n      run_inline_js();\n    });\n  }\n}(window));",
      "application/vnd.bokehjs_load.v0+json": ""
     },
     "metadata": {}
    }
   ],
   "metadata": {}
  },
  {
   "cell_type": "code",
   "execution_count": 2,
   "source": [
    "green_data_2015 = pd.read_pickle('../preprocessed_data/drop_green_tripdata_2015.pkl')"
   ],
   "outputs": [],
   "metadata": {}
  },
  {
   "cell_type": "code",
   "execution_count": 4,
   "source": [
    "COORDS = ['Pickup_longitude','Pickup_latitude', 'Dropoff_longitude','Dropoff_latitude']\n",
    "PU_COORDS= ['Pickup_latitude','Pickup_longitude']\n",
    "DO_COORDS= ['Dropoff_latitude','Dropoff_longitude']\n",
    "longitude_message=['Pickup_longitude', 'Dropoff_longitude']\n",
    "latitude_message=['Pickup_latitude', 'Dropoff_latitude']\n",
    "tip_detail = ['Pickup_longitude','Pickup_latitude', 'Dropoff_longitude','Dropoff_latitude','Tip_amount']\n",
    "key_attribute= ['Pickup_longitude','Pickup_latitude', 'Dropoff_longitude','Dropoff_latitude', 'Passenger_count','Trip_distance']\n",
    "amount=['Fare_amount', 'Tip_amount', 'Total_amount','Trip_distance']\n",
    "trip_detail=['Passenger_count','Trip_distance']\n",
    "key_colS = [\"Passenger_count\", \"Trip_distance\", \"Fare_amount\", \"Tip_amount\", \"Total_amount\"]\n"
   ],
   "outputs": [],
   "metadata": {}
  },
  {
   "cell_type": "code",
   "execution_count": 5,
   "source": [
    "#Venue: Madison Square Garden and BARCLAYS CENTER\n",
    "MSG_Venue_coord=[40.750298, -73.993324]\n",
    "BC_Venue_coord=[40.68265, -73.97469]\n",
    "MSG_Venue_coordM=np.array(MSG_Venue_coord)\n",
    "BC_Venue_coordM=np.array(BC_Venue_coord)"
   ],
   "outputs": [],
   "metadata": {}
  },
  {
   "cell_type": "code",
   "execution_count": 6,
   "source": [
    "Boundary_box=green_data_2015[DO_COORDS].describe().loc[['min','max']].values\n",
    "main_coords=green_data_2015[DO_COORDS].describe().loc[['50%']].values[0]\n",
    "yRange, xRange = sorted(i[0] for i in Boundary_box), sorted(i[1] for i in Boundary_box)"
   ],
   "outputs": [],
   "metadata": {}
  },
  {
   "cell_type": "code",
   "execution_count": null,
   "source": [
    "# initialise a map\n",
    "NY_map1 = folium.Map(location=main_coords, tiles=\"Stamen Terrain\", zoom_start=12)\n",
    "\n",
    "# show map\n",
    "folium.Marker(BC_Venue_coord, popup=\"<b>BARCLAYS CENTER</b>\", icon=folium.Icon(color='green')).add_to(NY_map1)\n",
    "NY_map1.save('../plots/map1.html')\n",
    "NY_map1"
   ],
   "outputs": [],
   "metadata": {}
  },
  {
   "cell_type": "code",
   "execution_count": 8,
   "source": [
    "#concert period\n",
    "Chris_Brown_concert_period= green_data_2015[(green_data_2015[\"lpep_pickup_datetime\"]<'2015-02-16 23:59:59') & \n",
    "                                                (green_data_2015[\"lpep_pickup_datetime\"]>'2015-02-16 00:00:00')]"
   ],
   "outputs": [],
   "metadata": {}
  },
  {
   "cell_type": "code",
   "execution_count": 8,
   "source": [
    "#concert period\n",
    "Neil_Diamond_concert_period= green_data_2015[(green_data_2015[\"lpep_pickup_datetime\"]<'2015-03-25 23:59:59') & \n",
    "                                                (green_data_2015[\"lpep_pickup_datetime\"]>'2015-03-15 00:00:00')]"
   ],
   "outputs": [],
   "metadata": {}
  },
  {
   "cell_type": "code",
   "execution_count": 9,
   "source": [
    "#sport period\n",
    "NBA_AllStar_Game_period=green_data_2015[(green_data_2015[\"lpep_pickup_datetime\"]<'2015-02-15 23:59:59') & \n",
    "                                                (green_data_2015[\"lpep_pickup_datetime\"]>'2015-02-13 00:00:00')]"
   ],
   "outputs": [],
   "metadata": {}
  },
  {
   "cell_type": "code",
   "execution_count": 9,
   "source": [
    "concert_days=['02-16','03-25']\n",
    "sport_days=['02-13','02-14','02-15']\n",
    "weekend_days=['01-03','01-04','01-10','01-11','01-17','01-18','01-24','01-25','01-31','02-01','02-07',\n",
    "            '02-08','02-14','02-15','02-21','02-22','02-28','03-01','03-07','03-08','03-14','03-15','03-21','03-22','03-28','03-29']"
   ],
   "outputs": [],
   "metadata": {}
  },
  {
   "cell_type": "code",
   "execution_count": null,
   "source": [
    "# cluster map of Chris_Brown concert period\n",
    "Chris_Brown_concertM=folium.Map(location=BC_Venue_coord, tiles=\"Stamen Terrain\", zoom_start=15)\n",
    "FastMarkerCluster(Chris_Brown_concert_period[DO_COORDS]).add_to(Chris_Brown_concertM)\n",
    "\n",
    "folium.Marker(BC_Venue_coord, popup=\"<b>BARCLAYS CENTER</b>\", icon=folium.Icon(color='blue')).add_to(Chris_Brown_concertM)\n",
    "folium.Circle(radius=200,location=BC_Venue_coord,popup=\"<b>BARCLAYS CENTER</b>\",color='#3186',fill=True,).add_to(Chris_Brown_concertM)\n",
    "Chris_Brown_concertM.save('../plots/Chris_Brown_concert_cluster.html')\n",
    "\n",
    "Chris_Brown_concertM"
   ],
   "outputs": [],
   "metadata": {}
  },
  {
   "cell_type": "code",
   "execution_count": null,
   "source": [
    "# cluster map of Neil_Diamond concert period\n",
    "Neil_Diamond_concertM=folium.Map(location=BC_Venue_coord, tiles=\"Stamen Terrain\", zoom_start=15)\n",
    "FastMarkerCluster(Neil_Diamond_concert_period[DO_COORDS]).add_to(Neil_Diamond_concertM)\n",
    "\n",
    "folium.Marker(BC_Venue_coord, popup=\"<b>BARCLAYS CENTER</b>\", icon=folium.Icon(color='blue')).add_to(Neil_Diamond_concertM)\n",
    "folium.Circle(radius=200,location=BC_Venue_coord,popup=\"<b>BARCLAYS CENTER</b>\",color='#3186',fill=True,).add_to(Neil_Diamond_concertM)\n",
    "Neil_Diamond_concertM.save('../plots/Neil_Diamond_concert_cluster.html')\n",
    "\n",
    "Neil_Diamond_concertM"
   ],
   "outputs": [],
   "metadata": {}
  },
  {
   "cell_type": "code",
   "execution_count": null,
   "source": [
    "# cluster map of nba all star concert period\n",
    "NBA_AllStar_GameM=folium.Map(location=BC_Venue_coord, tiles=\"Stamen Terrain\", zoom_start=15)\n",
    "FastMarkerCluster(NBA_AllStar_Game_period[DO_COORDS]).add_to(NBA_AllStar_GameM)\n",
    "\n",
    "folium.Marker(BC_Venue_coord, popup=\"<b>BARCLAYS CENTER</b>\", icon=folium.Icon(color='blue')).add_to(NBA_AllStar_GameM)\n",
    "folium.Circle(radius=200,location=BC_Venue_coord,popup=\"<b>BARCLAYS CENTER</b>\",color='#3186',fill=True,).add_to(NBA_AllStar_GameM)\n",
    "NBA_AllStar_GameM.save('../plots/Green_taxi_NBA_AllStar_Game_cluster.html')\n",
    "\n",
    "NBA_AllStar_GameM"
   ],
   "outputs": [],
   "metadata": {}
  },
  {
   "cell_type": "code",
   "execution_count": 11,
   "source": [
    "#count by date\n",
    "green_data_2015['date']=green_data_2015[\"lpep_pickup_datetime\"].str[5:10]\n",
    "date_count=green_data_2015['date'].value_counts().sort_index()"
   ],
   "outputs": [],
   "metadata": {}
  },
  {
   "cell_type": "code",
   "execution_count": 12,
   "source": [
    "#count by time\n",
    "green_data_2015['time']=green_data_2015[\"lpep_pickup_datetime\"].str[11:13]+':00'\n",
    "time_count=green_data_2015['time'].value_counts().sort_index()"
   ],
   "outputs": [],
   "metadata": {}
  },
  {
   "cell_type": "code",
   "execution_count": null,
   "source": [
    "#plot Green taxi pick up times per day\n",
    "days_bar_count=date_count\n",
    "for i in range(len(days_bar_count)):\n",
    "    if (days_bar_count.index[i] not in weekend_days):\n",
    "        days_bar_count[days_bar_count.index[i]]=0\n",
    "\n",
    "labels= date_count.index\n",
    "date_count=green_data_2015['date'].value_counts().sort_index()\n",
    "\n",
    "x=np.arange(len(labels))\n",
    "\n",
    "width=0.25\n",
    "\n",
    "fig, ax = plt.subplots(1, 1, figsize=(13, 11))\n",
    "work_bar=ax.bar(x, date_count,width,label='week days')\n",
    "weekend_day_bar=ax.bar(x, days_bar_count,width, label='weekend days')\n",
    "\n",
    "ax.set_ylabel(\"Total pick up times\")\n",
    "ax.set_title(\"Green taxi pick up times per day\")\n",
    "ax.set_xticks(x)\n",
    "ax.set_xlabel(\"Date\")\n",
    "ax.set_xticklabels(labels)\n",
    "ax.legend()\n",
    "\n",
    "plt.xticks(rotation=45)\n",
    "fig.tight_layout()\n",
    "\n",
    "plt.savefig('../plots/Green taxi pick up times per day.jpeg')\n",
    "plt.show()"
   ],
   "outputs": [],
   "metadata": {}
  },
  {
   "cell_type": "markdown",
   "source": [
    "What will affect the demand of taxi?"
   ],
   "metadata": {}
  },
  {
   "cell_type": "code",
   "execution_count": 14,
   "source": [
    "#refine the green taxi data\n",
    "green_data_2015=green_data_2015[(green_data_2015[\"Payment_type\"]==1)]\n",
    "tip_count_date=green_data_2015.groupby(\"date\")[\"Tip_amount\"].sum()\n",
    "tip_count_time=green_data_2015.groupby(\"time\")[\"Tip_amount\"].sum()\n",
    "date_count=green_data_2015['date'].value_counts().sort_index()\n",
    "time_count=green_data_2015['time'].value_counts().sort_index()\n",
    "avg_tip_day=tip_count_date/date_count\n",
    "avg_tip_time=tip_count_time/time_count"
   ],
   "outputs": [],
   "metadata": {}
  },
  {
   "cell_type": "code",
   "execution_count": 15,
   "source": [
    "weekend_bar_count=avg_tip_day.copy()\n",
    "weekday_bar_count=avg_tip_day.copy()\n",
    "concert_bar_count=avg_tip_day.copy()\n",
    "sport_bar_count=avg_tip_day.copy()\n",
    "\n",
    "for i in range(len(weekend_bar_count)):\n",
    "    if (weekend_bar_count.index[i] not in weekend_days):\n",
    "        weekend_bar_count[weekend_bar_count.index[i]]=0\n",
    "\n",
    "for i in range(len(concert_bar_count)):\n",
    "    if (concert_bar_count.index[i] not in concert_days):\n",
    "        concert_bar_count[concert_bar_count.index[i]]=0\n",
    "\n",
    "for i in range(len(sport_bar_count)):\n",
    "    if (sport_bar_count.index[i] not in sport_days):\n",
    "        sport_bar_count[sport_bar_count.index[i]]=0"
   ],
   "outputs": [],
   "metadata": {}
  },
  {
   "cell_type": "code",
   "execution_count": null,
   "source": [
    "#green taxi avg tip in week days, weekend, concert days, sport days\n",
    "new_labels=avg_tip_day.index\n",
    "x=np.arange(len(new_labels))\n",
    "width=0.2\n",
    "\n",
    "fig, ax = plt.subplots(1, 1, figsize=(14, 11))\n",
    "weekday_bar=ax.bar(x, weekday_bar_count,width,label='week days')\n",
    "weekend_day_bar=ax.bar(x, weekend_bar_count,width, label='weekend days')\n",
    "concert_day_bar=ax.bar(x, concert_bar_count,width, label='concert days')\n",
    "sport_day_bar=ax.bar(x, sport_bar_count,width, label='sport days')\n",
    "\n",
    "ax.set_ylabel(\"Avg tip\")\n",
    "ax.set_title(\"Yellow taxi avg tip per day\")\n",
    "ax.set_xticks(x)\n",
    "ax.set_xlabel(\"Date\")\n",
    "ax.set_xticklabels(labels)\n",
    "ax.legend()\n",
    "\n",
    "plt.xticks(rotation=45)\n",
    "fig.tight_layout()\n",
    "\n",
    "plt.savefig('../plots/Green taxi avg tip per day.jpeg')\n",
    "plt.show()"
   ],
   "outputs": [],
   "metadata": {}
  },
  {
   "cell_type": "code",
   "execution_count": null,
   "source": [
    "#Green taxi Average Tips and Total tips by time\n",
    "fig, ax=plt.subplots(figsize=(9,6),sharex=True)\n",
    "ax1=ax.twinx()\n",
    "\n",
    "total=ax.plot(tip_count_time,'C0-',label='Total tips')\n",
    "avg=ax1.plot(avg_tip_time,'C1-',label='Average Tips')\n",
    "ax1.set_ylabel('Averge tips per trip')\n",
    "ax.set_xticklabels(time_count.index,rotation=45)\n",
    "\n",
    "ax.legend(avg+total,['Average Tips','Total Tips'],loc=0)\n",
    "ax.set_xlabel(\"Time (h)\")\n",
    "ax.set_ylabel('Total Tips')\n",
    "ax.set_title('Green taxi Average Tips and Total tips by time')\n",
    "\n",
    "fig.tight_layout()\n",
    "plt.show()\n",
    "fig.savefig('../plots/Green taxi Average Tips and Total tips by time.jpeg')"
   ],
   "outputs": [],
   "metadata": {}
  }
 ],
 "metadata": {
  "orig_nbformat": 4,
  "language_info": {
   "name": "python",
   "version": "3.8.5",
   "mimetype": "text/x-python",
   "codemirror_mode": {
    "name": "ipython",
    "version": 3
   },
   "pygments_lexer": "ipython3",
   "nbconvert_exporter": "python",
   "file_extension": ".py"
  },
  "kernelspec": {
   "name": "python3",
   "display_name": "Python 3.8.5 64-bit ('base': conda)"
  },
  "interpreter": {
   "hash": "dca0ade3e726a953b501b15e8e990130d2b7799f14cfd9f4271676035ebe5511"
  }
 },
 "nbformat": 4,
 "nbformat_minor": 2
}