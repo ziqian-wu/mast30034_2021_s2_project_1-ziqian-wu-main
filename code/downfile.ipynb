{
 "cells": [
  {
   "cell_type": "code",
   "execution_count": null,
   "source": [
    "from os.path import getsize\n",
    "from urllib.request import urlretrieve\n",
    "\n",
    "output_dir = \"../raw_data/\"\n",
    "fname = \"yellow_tripdata_2015_01.csv\"\n",
    "\n",
    "# its this easy\n",
    "url=\"https://s3.amazonaws.com/nyc-tlc/trip+data/yellow_tripdata_2015-01.csv\"\n",
    "urlretrieve(url, f\"{output_dir}/{fname}\")\n",
    "\n",
    "print(f\"Done downloading {fname} to {output_dir} with size {getsize(f'{output_dir}/{fname}') / 1073741824:.2f}GB\")"
   ],
   "outputs": [],
   "metadata": {}
  },
  {
   "cell_type": "code",
   "execution_count": null,
   "source": [
    "from os.path import getsize\n",
    "from urllib.request import urlretrieve\n",
    "\n",
    "output_dir = \"../raw_data/\"\n",
    "fname = \"yellow_tripdata_2015_02.csv\"\n",
    "\n",
    "# its this easy\n",
    "url=\"https://s3.amazonaws.com/nyc-tlc/trip+data/yellow_tripdata_2015-02.csv\"\n",
    "urlretrieve(url, f\"{output_dir}/{fname}\")\n",
    "\n",
    "print(f\"Done downloading {fname} to {output_dir} with size {getsize(f'{output_dir}/{fname}') / 1073741824:.2f}GB\")"
   ],
   "outputs": [],
   "metadata": {}
  },
  {
   "cell_type": "code",
   "execution_count": null,
   "source": [
    "from os.path import getsize\n",
    "from urllib.request import urlretrieve\n",
    "\n",
    "output_dir = \"../raw_data/\"\n",
    "fname = \"yellow_tripdata_2015_03.csv\"\n",
    "\n",
    "# its this easy\n",
    "url=\"https://s3.amazonaws.com/nyc-tlc/trip+data/yellow_tripdata_2015-03.csv\"\n",
    "urlretrieve(url, f\"{output_dir}/{fname}\")\n",
    "\n",
    "print(f\"Done downloading {fname} to {output_dir} with size {getsize(f'{output_dir}/{fname}') / 1073741824:.2f}GB\")"
   ],
   "outputs": [],
   "metadata": {}
  },
  {
   "cell_type": "code",
   "execution_count": null,
   "source": [
    "from os.path import getsize\n",
    "from urllib.request import urlretrieve\n",
    "\n",
    "output_dir = \"../raw_data/\"\n",
    "fname = \"green_tripdata_2015_01.csv\"\n",
    "\n",
    "# its this easy\n",
    "url=\"https://s3.amazonaws.com/nyc-tlc/trip+data/green_tripdata_2015-01.csv\"\n",
    "urlretrieve(url, f\"{output_dir}/{fname}\")\n",
    "\n",
    "print(f\"Done downloading {fname} to {output_dir} with size {getsize(f'{output_dir}/{fname}') / 1073741824:.2f}GB\")"
   ],
   "outputs": [],
   "metadata": {}
  },
  {
   "cell_type": "code",
   "execution_count": null,
   "source": [
    "from os.path import getsize\n",
    "from urllib.request import urlretrieve\n",
    "\n",
    "output_dir = \"../raw_data/\"\n",
    "fname = \"green_tripdata_2015_02.csv\"\n",
    "\n",
    "# its this easy\n",
    "url=\"https://s3.amazonaws.com/nyc-tlc/trip+data/green_tripdata_2015-02.csv\"\n",
    "urlretrieve(url, f\"{output_dir}/{fname}\")\n",
    "\n",
    "print(f\"Done downloading {fname} to {output_dir} with size {getsize(f'{output_dir}/{fname}') / 1073741824:.2f}GB\")"
   ],
   "outputs": [],
   "metadata": {}
  },
  {
   "cell_type": "code",
   "execution_count": null,
   "source": [
    "from os.path import getsize\n",
    "from urllib.request import urlretrieve\n",
    "\n",
    "output_dir = \"../raw_data/\"\n",
    "fname = \"green_tripdata_2015_03.csv\"\n",
    "\n",
    "# its this easy\n",
    "url=\"https://s3.amazonaws.com/nyc-tlc/trip+data/green_tripdata_2015-03.csv\"\n",
    "urlretrieve(url, f\"{output_dir}/{fname}\")\n",
    "\n",
    "print(f\"Done downloading {fname} to {output_dir} with size {getsize(f'{output_dir}/{fname}') / 1073741824:.2f}GB\")"
   ],
   "outputs": [],
   "metadata": {}
  },
  {
   "cell_type": "code",
   "execution_count": null,
   "source": [
    "from os.path import getsize\n",
    "from urllib.request import urlretrieve\n",
    "\n",
    "output_dir = \"../raw_data/\"\n",
    "fname = \"yellow_tripdata_2016_01.csv\"\n",
    "\n",
    "# its this easy\n",
    "url=\"https://s3.amazonaws.com/nyc-tlc/trip+data/yellow_tripdata_2016-01.csv\"\n",
    "urlretrieve(url, f\"{output_dir}/{fname}\")\n",
    "\n",
    "print(f\"Done downloading {fname} to {output_dir} with size {getsize(f'{output_dir}/{fname}') / 1073741824:.2f}GB\")"
   ],
   "outputs": [],
   "metadata": {}
  },
  {
   "cell_type": "code",
   "execution_count": null,
   "source": [
    "from os.path import getsize\n",
    "from urllib.request import urlretrieve\n",
    "\n",
    "output_dir = \"../raw_data/\"\n",
    "fname = \"2015_New_York_weather.csv\"\n",
    "\n",
    "# its this easy\n",
    "url=\"https://www.ncei.noaa.gov/orders/cdo/2680310.csv\"\n",
    "urlretrieve(url, f\"{output_dir}/{fname}\")\n",
    "\n",
    "print(f\"Done downloading {fname} to {output_dir} with size {getsize(f'{output_dir}/{fname}') / 1073741824:.2f}GB\")"
   ],
   "outputs": [],
   "metadata": {}
  },
  {
   "cell_type": "code",
   "execution_count": null,
   "source": [
    "from os.path import getsize\n",
    "from urllib.request import urlretrieve\n",
    "\n",
    "output_dir = \"../raw_data/\"\n",
    "fname = \"2016_1 new york weather data.csv\"\n",
    "\n",
    "# its this easy\n",
    "url=\"https://www.ncei.noaa.gov/orders/cdo/2684218.csv\"\n",
    "urlretrieve(url, f\"{output_dir}/{fname}\")\n",
    "\n",
    "print(f\"Done downloading {fname} to {output_dir} with size {getsize(f'{output_dir}/{fname}') / 1073741824:.2f}GB\")"
   ],
   "outputs": [],
   "metadata": {}
  }
 ],
 "metadata": {
  "orig_nbformat": 4,
  "language_info": {
   "name": "python",
   "version": "3.8.5",
   "mimetype": "text/x-python",
   "codemirror_mode": {
    "name": "ipython",
    "version": 3
   },
   "pygments_lexer": "ipython3",
   "nbconvert_exporter": "python",
   "file_extension": ".py"
  },
  "kernelspec": {
   "name": "python3",
   "display_name": "Python 3.8.5 64-bit ('base': conda)"
  },
  "interpreter": {
   "hash": "dca0ade3e726a953b501b15e8e990130d2b7799f14cfd9f4271676035ebe5511"
  }
 },
 "nbformat": 4,
 "nbformat_minor": 2
}