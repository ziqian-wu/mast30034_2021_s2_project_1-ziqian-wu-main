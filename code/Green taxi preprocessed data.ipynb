{
 "cells": [
  {
   "cell_type": "code",
   "execution_count": 2,
   "source": [
    "import pandas as pd\n",
    "import numpy as np\n",
    "import seaborn as sns\n",
    "import matplotlib.pyplot as plt\n",
    "# a nice way of filtering out deprecated warnings\n",
    "import warnings\n",
    "warnings.filterwarnings(\"ignore\")"
   ],
   "outputs": [],
   "metadata": {}
  },
  {
   "cell_type": "code",
   "execution_count": 3,
   "source": [
    "COORDS = ['Pickup_longitude','Pickup_latitude', 'Dropoff_longitude','Dropoff_latitude']\n",
    "PU_COORDS= ['Pickup_longitude','Pickup_latitude']\n",
    "DO_COORDS= ['Dropoff_longitude','Dropoff_latitude']\n",
    "longitude_message=['Pickup_longitude', 'Dropoff_longitude']\n",
    "latitude_message=['Pickup_latitude', 'Dropoff_latitude']\n",
    "tip_detail = ['Pickup_longitude','Pickup_latitude', 'Dropoff_longitude','Dropoff_latitude','Tip_amount']\n",
    "key_attribute= ['Pickup_longitude','Pickup_latitude', 'Dropoff_longitude','Dropoff_latitude', 'Passenger_count','Trip_distance']\n",
    "amount=['Fare_amount', 'Tip_amount', 'Total_amount','Trip_distance']\n",
    "amount_fare=['Fare_amount', 'Tip_amount', 'Total_amount']\n",
    "trip_detail=['Passenger_count','Trip_distance']\n",
    "\n",
    "min_passenger_count=1\n",
    "max_passenger_count=6\n",
    "min_trip_distance=0\n",
    "max_trip_distance=500\n",
    "payment_type_1=1\n",
    "payment_type_2=2\n",
    "min_amount=2.5\n",
    "max_amount=1000"
   ],
   "outputs": [],
   "metadata": {}
  },
  {
   "cell_type": "code",
   "execution_count": 3,
   "source": [
    "#training green taxi data\n",
    "df_Green_2015_1 = pd.read_csv(\"../raw_data/green_tripdata_2015-01.csv\",index_col=False)"
   ],
   "outputs": [],
   "metadata": {}
  },
  {
   "cell_type": "code",
   "execution_count": 4,
   "source": [
    "cleaned_Green_2015_1=df_Green_2015_1.loc[(df_Green_2015_1[\"Passenger_count\"]>=min_passenger_count) &\n",
    "                                            (df_Green_2015_1[\"Passenger_count\"]<=max_passenger_count)]\n",
    "cleaned_Green_2015_1=cleaned_Green_2015_1[(cleaned_Green_2015_1[\"Trip_distance\"]>min_trip_distance)&\n",
    "                                            (cleaned_Green_2015_1[\"Trip_distance\"]<max_trip_distance)]\n",
    "\n",
    "cleaned_Green_2015_1=cleaned_Green_2015_1[(cleaned_Green_2015_1[\"lpep_pickup_datetime\"]<'2015-01-31 23:59:59') & \n",
    "                                                (cleaned_Green_2015_1[\"lpep_pickup_datetime\"]>'2015-01-01 00:00:00')]\n",
    "cleaned_Green_2015_1=cleaned_Green_2015_1[(cleaned_Green_2015_1[\"Lpep_dropoff_datetime\"]<'2015-01-31 23:59:59') & \n",
    "                                                (cleaned_Green_2015_1[\"Lpep_dropoff_datetime\"]>'2015-01-01 00:00:00')]\n",
    "\n",
    "cleaned_Green_2015_1=cleaned_Green_2015_1[(cleaned_Green_2015_1[\"Payment_type\"]==payment_type_1) | \n",
    "                                                (cleaned_Green_2015_1[\"Payment_type\"]==payment_type_2)]\n",
    "\n",
    "cleaned_Green_2015_1=cleaned_Green_2015_1[(cleaned_Green_2015_1[\"Fare_amount\"]>=min_amount)]\n",
    "cleaned_Green_2015_1=cleaned_Green_2015_1[(cleaned_Green_2015_1[\"Total_amount\"]>=min_amount) & \n",
    "                                                (cleaned_Green_2015_1[\"Total_amount\"]<=max_amount)]\n",
    "\n",
    "cleaned_Green_2015_1.to_pickle('../preprocessed_data/cleaned_green_tripdata_2015-01.pkl')"
   ],
   "outputs": [],
   "metadata": {}
  },
  {
   "cell_type": "code",
   "execution_count": 5,
   "source": [
    "df_Green_2015_2 = pd.read_csv(\"../raw_data/green_tripdata_2015-02.csv\",index_col=False)"
   ],
   "outputs": [],
   "metadata": {}
  },
  {
   "cell_type": "code",
   "execution_count": 6,
   "source": [
    "cleaned_Green_2015_2=df_Green_2015_2.loc[(df_Green_2015_2[\"Passenger_count\"]>=min_passenger_count) &\n",
    "                                            (df_Green_2015_2[\"Passenger_count\"]<=max_passenger_count)]\n",
    "cleaned_Green_2015_2=cleaned_Green_2015_2[(cleaned_Green_2015_2[\"Trip_distance\"]>min_trip_distance)&\n",
    "                                            (cleaned_Green_2015_2[\"Trip_distance\"]<max_trip_distance)]\n",
    "\n",
    "cleaned_Green_2015_2=cleaned_Green_2015_2[(cleaned_Green_2015_2[\"lpep_pickup_datetime\"]<'2015-02-31 23:59:59') & \n",
    "                                                (cleaned_Green_2015_2[\"lpep_pickup_datetime\"]>'2015-02-01 00:00:00')]\n",
    "cleaned_Green_2015_2=cleaned_Green_2015_2[(cleaned_Green_2015_2[\"Lpep_dropoff_datetime\"]<'2015-02-31 23:59:59') & \n",
    "                                                (cleaned_Green_2015_2[\"Lpep_dropoff_datetime\"]>'2015-02-01 00:00:00')]\n",
    "\n",
    "cleaned_Green_2015_2=cleaned_Green_2015_2[(cleaned_Green_2015_2[\"Payment_type\"]==payment_type_1) | \n",
    "                                                (cleaned_Green_2015_2[\"Payment_type\"]==payment_type_2)]\n",
    "\n",
    "cleaned_Green_2015_2=cleaned_Green_2015_2[(cleaned_Green_2015_2[\"Fare_amount\"]>=min_amount)]\n",
    "cleaned_Green_2015_2=cleaned_Green_2015_2[(cleaned_Green_2015_2[\"Total_amount\"]>=min_amount) & \n",
    "                                                (cleaned_Green_2015_2[\"Total_amount\"]<=max_amount)]\n",
    "\n",
    "cleaned_Green_2015_2.to_pickle('../preprocessed_data/cleaned_green_tripdata_2015-02.pkl')"
   ],
   "outputs": [],
   "metadata": {}
  },
  {
   "cell_type": "code",
   "execution_count": 7,
   "source": [
    "df_Green_2015_3 = pd.read_csv(\"../raw_data/green_tripdata_2015-03.csv\",index_col=False)"
   ],
   "outputs": [],
   "metadata": {}
  },
  {
   "cell_type": "code",
   "execution_count": 8,
   "source": [
    "cleaned_Green_2015_3=df_Green_2015_3.loc[(df_Green_2015_3[\"Passenger_count\"]>=min_passenger_count) &\n",
    "                                            (df_Green_2015_3[\"Passenger_count\"]<=max_passenger_count)]\n",
    "cleaned_Green_2015_3=cleaned_Green_2015_3[(cleaned_Green_2015_3[\"Trip_distance\"]>min_trip_distance)&\n",
    "                                            (cleaned_Green_2015_3[\"Trip_distance\"]<max_trip_distance)]\n",
    "\n",
    "cleaned_Green_2015_3=cleaned_Green_2015_3[(cleaned_Green_2015_3[\"lpep_pickup_datetime\"]<'2015-03-31 23:59:59') & \n",
    "                                                (cleaned_Green_2015_3[\"lpep_pickup_datetime\"]>'2015-03-01 00:00:00')]\n",
    "cleaned_Green_2015_3=cleaned_Green_2015_3[(cleaned_Green_2015_3[\"Lpep_dropoff_datetime\"]<'2015-03-31 23:59:59') & \n",
    "                                                (cleaned_Green_2015_3[\"Lpep_dropoff_datetime\"]>'2015-03-01 00:00:00')]\n",
    "\n",
    "cleaned_Green_2015_3=cleaned_Green_2015_3[(cleaned_Green_2015_3[\"Payment_type\"]==payment_type_1) | \n",
    "                                                (cleaned_Green_2015_3[\"Payment_type\"]==payment_type_2)]\n",
    "\n",
    "cleaned_Green_2015_3=cleaned_Green_2015_3[(cleaned_Green_2015_3[\"Fare_amount\"]>=min_amount)]\n",
    "cleaned_Green_2015_3=cleaned_Green_2015_3[(cleaned_Green_2015_3[\"Total_amount\"]>=min_amount) & \n",
    "                                                (cleaned_Green_2015_3[\"Total_amount\"]<=max_amount)]\n",
    "\n",
    "\n",
    "cleaned_Green_2015_3.to_pickle('../preprocessed_data/cleaned_green_tripdata_2015-03.pkl')"
   ],
   "outputs": [],
   "metadata": {}
  },
  {
   "cell_type": "code",
   "execution_count": 3,
   "source": [
    "df_Green_2015_1=pd.read_pickle('../preprocessed_data/cleaned_green_tripdata_2015-01.pkl')\n",
    "df_Green_2015_2=pd.read_pickle('../preprocessed_data/cleaned_green_tripdata_2015-02.pkl')\n",
    "df_Green_2015_3=pd.read_pickle('../preprocessed_data/cleaned_green_tripdata_2015-03.pkl')\n",
    "\n",
    "Green_2015_data=pd.concat([df_Green_2015_1, df_Green_2015_2, df_Green_2015_3])\n",
    "\n"
   ],
   "outputs": [
    {
     "output_type": "error",
     "ename": "NameError",
     "evalue": "name 'df_Green_2015_3' is not defined",
     "traceback": [
      "\u001b[0;31m---------------------------------------------------------------------------\u001b[0m",
      "\u001b[0;31mNameError\u001b[0m                                 Traceback (most recent call last)",
      "\u001b[0;32m<ipython-input-3-ec85ae413dea>\u001b[0m in \u001b[0;36m<module>\u001b[0;34m\u001b[0m\n\u001b[1;32m      3\u001b[0m \u001b[0mdf_Grenn_2015_3\u001b[0m\u001b[0;34m=\u001b[0m\u001b[0mpd\u001b[0m\u001b[0;34m.\u001b[0m\u001b[0mread_pickle\u001b[0m\u001b[0;34m(\u001b[0m\u001b[0;34m'../preprocessed_data/cleaned_green_tripdata_2015-03.pkl'\u001b[0m\u001b[0;34m)\u001b[0m\u001b[0;34m\u001b[0m\u001b[0;34m\u001b[0m\u001b[0m\n\u001b[1;32m      4\u001b[0m \u001b[0;34m\u001b[0m\u001b[0m\n\u001b[0;32m----> 5\u001b[0;31m \u001b[0mGreen_2015_data\u001b[0m\u001b[0;34m=\u001b[0m\u001b[0mpd\u001b[0m\u001b[0;34m.\u001b[0m\u001b[0mconcat\u001b[0m\u001b[0;34m(\u001b[0m\u001b[0;34m[\u001b[0m\u001b[0mdf_Green_2015_1\u001b[0m\u001b[0;34m,\u001b[0m \u001b[0mdf_Green_2015_2\u001b[0m\u001b[0;34m,\u001b[0m \u001b[0mdf_Green_2015_3\u001b[0m\u001b[0;34m]\u001b[0m\u001b[0;34m)\u001b[0m\u001b[0;34m\u001b[0m\u001b[0;34m\u001b[0m\u001b[0m\n\u001b[0m\u001b[1;32m      6\u001b[0m \u001b[0;34m\u001b[0m\u001b[0m\n",
      "\u001b[0;31mNameError\u001b[0m: name 'df_Green_2015_3' is not defined"
     ]
    }
   ],
   "metadata": {}
  },
  {
   "cell_type": "code",
   "execution_count": 42,
   "source": [
    "#detect coordinates outliers\n",
    "Green_2015_data_coords_boxplot=Green_2015_data.boxplot(column=COORDS,rot=45, fontsize=10)"
   ],
   "outputs": [
    {
     "output_type": "display_data",
     "data": {
      "text/plain": [
       "<Figure size 432x288 with 1 Axes>"
      ],
      "image/png": "[encoded data removed]"
     },
     "metadata": {
      "needs_background": "light"
     }
    }
   ],
   "metadata": {}
  },
  {
   "cell_type": "code",
   "execution_count": 43,
   "source": [
    "#detect amount outliers\n",
    "Green_2015_data_amount_boxplot=Green_2015_data.boxplot(column=amount_fare,rot=45, fontsize=10)"
   ],
   "outputs": [
    {
     "output_type": "display_data",
     "data": {
      "text/plain": [
       "<Figure size 432x288 with 1 Axes>"
      ],
      "image/png": "[encoded data removed]"
     },
     "metadata": {
      "needs_background": "light"
     }
    }
   ],
   "metadata": {}
  },
  {
   "cell_type": "code",
   "execution_count": 44,
   "source": [
    "# detect passengers and distance outliers after preprocessing\n",
    "Green_2015_data_trip_boxplot=Green_2015_data.boxplot(column=trip_detail,rot=45, fontsize=10)"
   ],
   "outputs": [
    {
     "output_type": "display_data",
     "data": {
      "text/plain": [
       "<Figure size 432x288 with 1 Axes>"
      ],
      "image/png": "[encoded data removed]"
     },
     "metadata": {
      "needs_background": "light"
     }
    }
   ],
   "metadata": {}
  },
  {
   "cell_type": "code",
   "execution_count": 45,
   "source": [
    "\n",
    "Q1_coords = Green_2015_data[COORDS].quantile(0.25)\n",
    "Q3_coords = Green_2015_data[COORDS].quantile(0.75)\n",
    "IQR_coords = Q3_coords - Q1_coords  #IQR is interquartile range. \n",
    "\n",
    "Green_2015_data = Green_2015_data[~((Green_2015_data[COORDS] < (Q1_coords - 5 * IQR_coords)) |\n",
    "                        (Green_2015_data[COORDS] > (Q3_coords + 5 * IQR_coords))).any(axis=1)]\n",
    "\n",
    "Q1_amount = Green_2015_data[amount].quantile(0.25)\n",
    "Q3_amount = Green_2015_data[amount].quantile(0.75)\n",
    "IQR_amount = Q3_amount - Q1_amount  #IQR is interquartile range. \n",
    "\n",
    "Green_2015_data = Green_2015_data[~((Green_2015_data[amount] < (Q1_amount - 5 * IQR_amount)) |\n",
    "                        (Green_2015_data[amount] > (Q3_amount + 5 * IQR_amount))).any(axis=1)]"
   ],
   "outputs": [],
   "metadata": {}
  },
  {
   "cell_type": "code",
   "execution_count": 46,
   "source": [
    "#detect coordinates outliers after preprocessing\n",
    "Green_2015_data_coords_boxplot=Green_2015_data.boxplot(column=COORDS,rot=45, fontsize=10)"
   ],
   "outputs": [
    {
     "output_type": "display_data",
     "data": {
      "text/plain": [
       "<Figure size 432x288 with 1 Axes>"
      ],
      "image/png": "[encoded data removed]"
     },
     "metadata": {
      "needs_background": "light"
     }
    }
   ],
   "metadata": {}
  },
  {
   "cell_type": "code",
   "execution_count": 47,
   "source": [
    "#detect amount outliers after preprocessing\n",
    "Green_2015_data_amount_boxplot=Green_2015_data.boxplot(column=amount_fare,rot=45, fontsize=10)"
   ],
   "outputs": [
    {
     "output_type": "display_data",
     "data": {
      "text/plain": [
       "<Figure size 432x288 with 1 Axes>"
      ],
      "image/png": "[encoded data removed]"
     },
     "metadata": {
      "needs_background": "light"
     }
    }
   ],
   "metadata": {}
  },
  {
   "cell_type": "code",
   "execution_count": 48,
   "source": [
    "# detect passengers and distance outliers after preprocessing\n",
    "Green_2015_data_trip_boxplot=Green_2015_data.boxplot(column=trip_detail,rot=45, fontsize=10)"
   ],
   "outputs": [
    {
     "output_type": "display_data",
     "data": {
      "text/plain": [
       "<Figure size 432x288 with 1 Axes>"
      ],
      "image/png": "[encoded data removed]"
     },
     "metadata": {
      "needs_background": "light"
     }
    }
   ],
   "metadata": {}
  },
  {
   "cell_type": "code",
   "execution_count": 49,
   "source": [
    "Green_2015_data.to_pickle('../preprocessed_data/cleaned_green_tripdata_2015.pkl')"
   ],
   "outputs": [],
   "metadata": {}
  },
  {
   "cell_type": "code",
   "execution_count": 4,
   "source": [
    "Green_2015_data=pd.read_pickle('../preprocessed_data/cleaned_green_tripdata_2015.pkl')"
   ],
   "outputs": [],
   "metadata": {}
  },
  {
   "cell_type": "code",
   "execution_count": 6,
   "source": [
    "\n",
    "Green_2015_data=Green_2015_data.drop(['VendorID','RateCodeID','Store_and_fwd_flag','Extra','MTA_tax',\n",
    "                                        'Tolls_amount','improvement_surcharge'],axis='columns')"
   ],
   "outputs": [],
   "metadata": {}
  },
  {
   "cell_type": "code",
   "execution_count": 7,
   "source": [
    "Green_2015_data.to_pickle('../preprocessed_data/drop_green_tripdata_2015.pkl')"
   ],
   "outputs": [
    {
     "output_type": "execute_result",
     "data": {
      "text/plain": [
       "        lpep_pickup_datetime Lpep_dropoff_datetime  Pickup_longitude  \\\n",
       "0        2015-01-01 00:34:42   2015-01-01 00:38:34        -73.922592   \n",
       "1        2015-01-01 00:34:46   2015-01-01 00:47:23        -73.952751   \n",
       "2        2015-01-01 00:34:44   2015-01-01 00:38:15        -73.843010   \n",
       "3        2015-01-01 00:34:48   2015-01-01 00:38:08        -73.860825   \n",
       "4        2015-01-01 00:34:53   2015-01-01 01:09:10        -73.945183   \n",
       "...                      ...                   ...               ...   \n",
       "1722569  2015-03-31 23:02:40   2015-03-31 23:08:05        -73.851982   \n",
       "1722570  2015-03-31 23:02:27   2015-03-31 23:05:20        -73.890549   \n",
       "1722571  2015-03-31 23:03:03   2015-03-31 23:11:35        -73.938141   \n",
       "1722572  2015-03-31 23:00:52   2015-03-31 23:18:00        -73.929756   \n",
       "1722573  2015-03-31 23:00:14   2015-03-31 23:21:42        -73.926414   \n",
       "\n",
       "         Pickup_latitude  Dropoff_longitude  Dropoff_latitude  \\\n",
       "0              40.754528         -73.913635         40.765522   \n",
       "1              40.677711         -73.981529         40.658978   \n",
       "2              40.719055         -73.846581         40.711567   \n",
       "3              40.757793         -73.854042         40.749821   \n",
       "4              40.783321         -73.989624         40.765450   \n",
       "...                  ...                ...               ...   \n",
       "1722569        40.834053         -73.844826         40.824570   \n",
       "1722570        40.746933         -73.888275         40.740032   \n",
       "1722571        40.753212         -73.952164         40.732613   \n",
       "1722572        40.756470         -73.881241         40.742043   \n",
       "1722573        40.683800         -73.947746         40.726772   \n",
       "\n",
       "         Passenger_count  Trip_distance  Fare_amount  Tip_amount  Ehail_fee  \\\n",
       "0                      1           0.88          5.0        0.00        NaN   \n",
       "1                      1           3.08         12.0        0.00        NaN   \n",
       "2                      1           0.90          5.0        1.80        NaN   \n",
       "3                      1           0.85          5.0        0.00        NaN   \n",
       "4                      1           4.91         24.5        0.00        NaN   \n",
       "...                  ...            ...          ...         ...        ...   \n",
       "1722569                1           0.90          6.0        0.00        NaN   \n",
       "1722570                1           0.50          4.5        0.00        NaN   \n",
       "1722571                2           1.90          8.5        1.95        NaN   \n",
       "1722572                1           3.20         14.0        0.00        NaN   \n",
       "1722573                1           3.50         16.0        0.00        NaN   \n",
       "\n",
       "         Total_amount  Payment_type  Trip_type   \n",
       "0                6.30             2         1.0  \n",
       "1               13.30             2         1.0  \n",
       "2                7.80             1         1.0  \n",
       "3                6.30             2         1.0  \n",
       "4               25.80             2         1.0  \n",
       "...               ...           ...         ...  \n",
       "1722569          7.80             2         1.0  \n",
       "1722570          5.80             2         1.0  \n",
       "1722571         11.75             1         1.0  \n",
       "1722572         15.30             2         1.0  \n",
       "1722573         17.30             2         1.0  \n",
       "\n",
       "[4643122 rows x 14 columns]"
      ],
      "text/html": [
       "<div>\n",
       "<style scoped>\n",
       "    .dataframe tbody tr th:only-of-type {\n",
       "        vertical-align: middle;\n",
       "    }\n",
       "\n",
       "    .dataframe tbody tr th {\n",
       "        vertical-align: top;\n",
       "    }\n",
       "\n",
       "    .dataframe thead th {\n",
       "        text-align: right;\n",
       "    }\n",
       "</style>\n",
       "<table border=\"1\" class=\"dataframe\">\n",
       "  <thead>\n",
       "    <tr style=\"text-align: right;\">\n",
       "      <th></th>\n",
       "      <th>lpep_pickup_datetime</th>\n",
       "      <th>Lpep_dropoff_datetime</th>\n",
       "      <th>Pickup_longitude</th>\n",
       "      <th>Pickup_latitude</th>\n",
       "      <th>Dropoff_longitude</th>\n",
       "      <th>Dropoff_latitude</th>\n",
       "      <th>Passenger_count</th>\n",
       "      <th>Trip_distance</th>\n",
       "      <th>Fare_amount</th>\n",
       "      <th>Tip_amount</th>\n",
       "      <th>Ehail_fee</th>\n",
       "      <th>Total_amount</th>\n",
       "      <th>Payment_type</th>\n",
       "      <th>Trip_type</th>\n",
       "    </tr>\n",
       "  </thead>\n",
       "  <tbody>\n",
       "    <tr>\n",
       "      <th>0</th>\n",
       "      <td>2015-01-01 00:34:42</td>\n",
       "      <td>2015-01-01 00:38:34</td>\n",
       "      <td>-73.922592</td>\n",
       "      <td>40.754528</td>\n",
       "      <td>-73.913635</td>\n",
       "      <td>40.765522</td>\n",
       "      <td>1</td>\n",
       "      <td>0.88</td>\n",
       "      <td>5.0</td>\n",
       "      <td>0.00</td>\n",
       "      <td>NaN</td>\n",
       "      <td>6.30</td>\n",
       "      <td>2</td>\n",
       "      <td>1.0</td>\n",
       "    </tr>\n",
       "    <tr>\n",
       "      <th>1</th>\n",
       "      <td>2015-01-01 00:34:46</td>\n",
       "      <td>2015-01-01 00:47:23</td>\n",
       "      <td>-73.952751</td>\n",
       "      <td>40.677711</td>\n",
       "      <td>-73.981529</td>\n",
       "      <td>40.658978</td>\n",
       "      <td>1</td>\n",
       "      <td>3.08</td>\n",
       "      <td>12.0</td>\n",
       "      <td>0.00</td>\n",
       "      <td>NaN</td>\n",
       "      <td>13.30</td>\n",
       "      <td>2</td>\n",
       "      <td>1.0</td>\n",
       "    </tr>\n",
       "    <tr>\n",
       "      <th>2</th>\n",
       "      <td>2015-01-01 00:34:44</td>\n",
       "      <td>2015-01-01 00:38:15</td>\n",
       "      <td>-73.843010</td>\n",
       "      <td>40.719055</td>\n",
       "      <td>-73.846581</td>\n",
       "      <td>40.711567</td>\n",
       "      <td>1</td>\n",
       "      <td>0.90</td>\n",
       "      <td>5.0</td>\n",
       "      <td>1.80</td>\n",
       "      <td>NaN</td>\n",
       "      <td>7.80</td>\n",
       "      <td>1</td>\n",
       "      <td>1.0</td>\n",
       "    </tr>\n",
       "    <tr>\n",
       "      <th>3</th>\n",
       "      <td>2015-01-01 00:34:48</td>\n",
       "      <td>2015-01-01 00:38:08</td>\n",
       "      <td>-73.860825</td>\n",
       "      <td>40.757793</td>\n",
       "      <td>-73.854042</td>\n",
       "      <td>40.749821</td>\n",
       "      <td>1</td>\n",
       "      <td>0.85</td>\n",
       "      <td>5.0</td>\n",
       "      <td>0.00</td>\n",
       "      <td>NaN</td>\n",
       "      <td>6.30</td>\n",
       "      <td>2</td>\n",
       "      <td>1.0</td>\n",
       "    </tr>\n",
       "    <tr>\n",
       "      <th>4</th>\n",
       "      <td>2015-01-01 00:34:53</td>\n",
       "      <td>2015-01-01 01:09:10</td>\n",
       "      <td>-73.945183</td>\n",
       "      <td>40.783321</td>\n",
       "      <td>-73.989624</td>\n",
       "      <td>40.765450</td>\n",
       "      <td>1</td>\n",
       "      <td>4.91</td>\n",
       "      <td>24.5</td>\n",
       "      <td>0.00</td>\n",
       "      <td>NaN</td>\n",
       "      <td>25.80</td>\n",
       "      <td>2</td>\n",
       "      <td>1.0</td>\n",
       "    </tr>\n",
       "    <tr>\n",
       "      <th>...</th>\n",
       "      <td>...</td>\n",
       "      <td>...</td>\n",
       "      <td>...</td>\n",
       "      <td>...</td>\n",
       "      <td>...</td>\n",
       "      <td>...</td>\n",
       "      <td>...</td>\n",
       "      <td>...</td>\n",
       "      <td>...</td>\n",
       "      <td>...</td>\n",
       "      <td>...</td>\n",
       "      <td>...</td>\n",
       "      <td>...</td>\n",
       "      <td>...</td>\n",
       "    </tr>\n",
       "    <tr>\n",
       "      <th>1722569</th>\n",
       "      <td>2015-03-31 23:02:40</td>\n",
       "      <td>2015-03-31 23:08:05</td>\n",
       "      <td>-73.851982</td>\n",
       "      <td>40.834053</td>\n",
       "      <td>-73.844826</td>\n",
       "      <td>40.824570</td>\n",
       "      <td>1</td>\n",
       "      <td>0.90</td>\n",
       "      <td>6.0</td>\n",
       "      <td>0.00</td>\n",
       "      <td>NaN</td>\n",
       "      <td>7.80</td>\n",
       "      <td>2</td>\n",
       "      <td>1.0</td>\n",
       "    </tr>\n",
       "    <tr>\n",
       "      <th>1722570</th>\n",
       "      <td>2015-03-31 23:02:27</td>\n",
       "      <td>2015-03-31 23:05:20</td>\n",
       "      <td>-73.890549</td>\n",
       "      <td>40.746933</td>\n",
       "      <td>-73.888275</td>\n",
       "      <td>40.740032</td>\n",
       "      <td>1</td>\n",
       "      <td>0.50</td>\n",
       "      <td>4.5</td>\n",
       "      <td>0.00</td>\n",
       "      <td>NaN</td>\n",
       "      <td>5.80</td>\n",
       "      <td>2</td>\n",
       "      <td>1.0</td>\n",
       "    </tr>\n",
       "    <tr>\n",
       "      <th>1722571</th>\n",
       "      <td>2015-03-31 23:03:03</td>\n",
       "      <td>2015-03-31 23:11:35</td>\n",
       "      <td>-73.938141</td>\n",
       "      <td>40.753212</td>\n",
       "      <td>-73.952164</td>\n",
       "      <td>40.732613</td>\n",
       "      <td>2</td>\n",
       "      <td>1.90</td>\n",
       "      <td>8.5</td>\n",
       "      <td>1.95</td>\n",
       "      <td>NaN</td>\n",
       "      <td>11.75</td>\n",
       "      <td>1</td>\n",
       "      <td>1.0</td>\n",
       "    </tr>\n",
       "    <tr>\n",
       "      <th>1722572</th>\n",
       "      <td>2015-03-31 23:00:52</td>\n",
       "      <td>2015-03-31 23:18:00</td>\n",
       "      <td>-73.929756</td>\n",
       "      <td>40.756470</td>\n",
       "      <td>-73.881241</td>\n",
       "      <td>40.742043</td>\n",
       "      <td>1</td>\n",
       "      <td>3.20</td>\n",
       "      <td>14.0</td>\n",
       "      <td>0.00</td>\n",
       "      <td>NaN</td>\n",
       "      <td>15.30</td>\n",
       "      <td>2</td>\n",
       "      <td>1.0</td>\n",
       "    </tr>\n",
       "    <tr>\n",
       "      <th>1722573</th>\n",
       "      <td>2015-03-31 23:00:14</td>\n",
       "      <td>2015-03-31 23:21:42</td>\n",
       "      <td>-73.926414</td>\n",
       "      <td>40.683800</td>\n",
       "      <td>-73.947746</td>\n",
       "      <td>40.726772</td>\n",
       "      <td>1</td>\n",
       "      <td>3.50</td>\n",
       "      <td>16.0</td>\n",
       "      <td>0.00</td>\n",
       "      <td>NaN</td>\n",
       "      <td>17.30</td>\n",
       "      <td>2</td>\n",
       "      <td>1.0</td>\n",
       "    </tr>\n",
       "  </tbody>\n",
       "</table>\n",
       "<p>4643122 rows × 14 columns</p>\n",
       "</div>"
      ]
     },
     "metadata": {},
     "execution_count": 7
    }
   ],
   "metadata": {}
  }
 ],
 "metadata": {
  "orig_nbformat": 4,
  "language_info": {
   "name": "python",
   "version": "3.8.5",
   "mimetype": "text/x-python",
   "codemirror_mode": {
    "name": "ipython",
    "version": 3
   },
   "pygments_lexer": "ipython3",
   "nbconvert_exporter": "python",
   "file_extension": ".py"
  },
  "kernelspec": {
   "name": "python3",
   "display_name": "Python 3.8.5 64-bit ('base': conda)"
  },
  "interpreter": {
   "hash": "dca0ade3e726a953b501b15e8e990130d2b7799f14cfd9f4271676035ebe5511"
  }
 },
 "nbformat": 4,
 "nbformat_minor": 2
}