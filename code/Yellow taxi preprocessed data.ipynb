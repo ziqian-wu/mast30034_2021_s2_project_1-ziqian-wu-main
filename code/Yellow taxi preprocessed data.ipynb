{
 "cells": [
  {
   "cell_type": "code",
   "execution_count": 2,
   "source": [
    "#import packages\n",
    "import pandas as pd\n",
    "import numpy as np\n",
    "import seaborn as sns\n",
    "import matplotlib.pyplot as plt\n",
    "# a nice way of filtering out deprecated warnings\n",
    "import warnings\n",
    "warnings.filterwarnings(\"ignore\")"
   ],
   "outputs": [],
   "metadata": {}
  },
  {
   "cell_type": "code",
   "execution_count": 3,
   "source": [
    "#attributes sets\n",
    "COORDS = ['pickup_longitude','pickup_latitude', 'dropoff_longitude','dropoff_latitude']\n",
    "PU_COORDS= ['pickup_longitude','pickup_latitude']\n",
    "DO_COORDS= ['dropoff_longitude','dropoff_latitude']\n",
    "longitude_message=['pickup_longitude', 'dropoff_longitude']\n",
    "latitude_message=['pickup_latitude', 'dropoff_latitude']\n",
    "tip_detail = ['pickup_longitude','pickup_latitude', 'dropoff_longitude','dropoff_latitude','tip_amount']\n",
    "amount=['fare_amount', 'tip_amount', 'total_amount','trip_distance']\n",
    "amount_fare=['fare_amount', 'tip_amount', 'total_amount']\n",
    "coords_amount=['pickup_longitude','pickup_latitude', 'dropoff_longitude','dropoff_latitude','fare_amount', 'tip_amount', 'total_amount']\n",
    "trip_detail=['passenger_count','trip_distance']\n",
    "\n",
    "#attribute values limit\n",
    "min_passenger_count=1\n",
    "max_passenger_count=6\n",
    "min_trip_distance=0\n",
    "max_trip_distance=500\n",
    "payment_type_1=1\n",
    "payment_type_2=2\n",
    "min_amount=2.5\n",
    "max_amount=1000"
   ],
   "outputs": [],
   "metadata": {}
  },
  {
   "cell_type": "code",
   "execution_count": 5,
   "source": [
    "#read yellow taxi data\n",
    "df_Yellow_2015_1 = pd.read_csv(\"../raw_data/yellow_tripdata_2015-01.csv\")"
   ],
   "outputs": [],
   "metadata": {}
  },
  {
   "cell_type": "code",
   "execution_count": 6,
   "source": [
    "#feature preprocessing (remove unreasonable data)\n",
    "cleaned_Yellow_2015_1=df_Yellow_2015_1.loc[(df_Yellow_2015_1[\"passenger_count\"]>=min_passenger_count)&\n",
    "                                            (df_Yellow_2015_1[\"passenger_count\"]<=max_passenger_count)]\n",
    "cleaned_Yellow_2015_1=cleaned_Yellow_2015_1[(cleaned_Yellow_2015_1[\"trip_distance\"]>min_trip_distance)&\n",
    "                                            (cleaned_Yellow_2015_1[\"trip_distance\"]<max_trip_distance)]\n",
    "\n",
    "cleaned_Yellow_2015_1=cleaned_Yellow_2015_1[(cleaned_Yellow_2015_1[\"tpep_pickup_datetime\"]<'2015-01-31 23:59:59') & \n",
    "                                                (cleaned_Yellow_2015_1[\"tpep_pickup_datetime\"]>'2015-01-01 00:00:00')]\n",
    "cleaned_Yellow_2015_1=cleaned_Yellow_2015_1[(cleaned_Yellow_2015_1[\"tpep_dropoff_datetime\"]<'2015-01-31 23:59:59') & \n",
    "                                                (cleaned_Yellow_2015_1[\"tpep_dropoff_datetime\"]>'2015-01-01 00:00:00')]\n",
    "\n",
    "cleaned_Yellow_2015_1=cleaned_Yellow_2015_1[(cleaned_Yellow_2015_1[\"payment_type\"]==payment_type_1) | \n",
    "                                                (cleaned_Yellow_2015_1[\"payment_type\"]==payment_type_2)]\n",
    "\n",
    "cleaned_Yellow_2015_1=cleaned_Yellow_2015_1[(cleaned_Yellow_2015_1[\"fare_amount\"]>=min_amount)]\n",
    "cleaned_Yellow_2015_1=cleaned_Yellow_2015_1[(cleaned_Yellow_2015_1[\"total_amount\"]>=min_amount) & \n",
    "                                                (cleaned_Yellow_2015_1[\"total_amount\"]<=max_amount)]\n",
    "\n",
    "cleaned_Yellow_2015_1.to_pickle('../preprocessed_data/cleaned_yellow_tripdata_2015-01.pkl')"
   ],
   "outputs": [],
   "metadata": {}
  },
  {
   "cell_type": "code",
   "execution_count": 3,
   "source": [
    "df_Yellow_2015_2 = pd.read_csv(\"../raw_data/yellow_tripdata_2015-02.csv\")"
   ],
   "outputs": [],
   "metadata": {}
  },
  {
   "cell_type": "code",
   "execution_count": 4,
   "source": [
    "#feature preprocessing (remove unreasonable data)\n",
    "cleaned_Yellow_2015_2=df_Yellow_2015_2.loc[(df_Yellow_2015_2[\"passenger_count\"]>=min_passenger_count) &\n",
    "                                        (df_Yellow_2015_2[\"passenger_count\"]<=max_passenger_count)]\n",
    "cleaned_Yellow_2015_2=cleaned_Yellow_2015_2[(cleaned_Yellow_2015_2[\"trip_distance\"]>min_trip_distance)&\n",
    "                                            (cleaned_Yellow_2015_2[\"trip_distance\"]<max_trip_distance)]\n",
    "cleaned_Yellow_2015_2=cleaned_Yellow_2015_2[(cleaned_Yellow_2015_2[\"tpep_pickup_datetime\"]<'2015-02-31 23:59:59') & \n",
    "                                                (cleaned_Yellow_2015_2[\"tpep_pickup_datetime\"]>'2015-02-01 00:00:00')]\n",
    "cleaned_Yellow_2015_2=cleaned_Yellow_2015_2[(cleaned_Yellow_2015_2[\"tpep_dropoff_datetime\"]<'2015-02-31 23:59:59') & \n",
    "                                                (cleaned_Yellow_2015_2[\"tpep_dropoff_datetime\"]>'2015-02-01 00:00:00')]\n",
    "\n",
    "cleaned_Yellow_2015_2=cleaned_Yellow_2015_2[(cleaned_Yellow_2015_2[\"payment_type\"]==payment_type_1) | \n",
    "                                                (cleaned_Yellow_2015_2[\"payment_type\"]==payment_type_2)]\n",
    "\n",
    "cleaned_Yellow_2015_2=cleaned_Yellow_2015_2[(cleaned_Yellow_2015_2[\"fare_amount\"]>=min_amount)]\n",
    "cleaned_Yellow_2015_2=cleaned_Yellow_2015_2[(cleaned_Yellow_2015_2[\"total_amount\"]>=min_amount) & \n",
    "                                                (cleaned_Yellow_2015_2[\"total_amount\"]<=max_amount)]\n",
    "cleaned_Yellow_2015_2.to_pickle('../preprocessed_data/cleaned_yellow_tripdata_2015-02.pkl')"
   ],
   "outputs": [],
   "metadata": {}
  },
  {
   "cell_type": "code",
   "execution_count": 4,
   "source": [
    "df_Yellow_2015_3 = pd.read_csv(\"../raw_data/yellow_tripdata_2015-03.csv\")"
   ],
   "outputs": [],
   "metadata": {}
  },
  {
   "cell_type": "code",
   "execution_count": 5,
   "source": [
    "#feature preprocessing (remove unreasonable data)\n",
    "cleaned_Yellow_2015_3=df_Yellow_2015_3.loc[(df_Yellow_2015_3[\"passenger_count\"]>=min_passenger_count)&\n",
    "                                        (df_Yellow_2015_3[\"passenger_count\"]<=max_passenger_count)]\n",
    "cleaned_Yellow_2015_3=cleaned_Yellow_2015_3[(cleaned_Yellow_2015_3[\"trip_distance\"]>min_trip_distance)&\n",
    "                                            (cleaned_Yellow_2015_3[\"trip_distance\"]<max_trip_distance)]\n",
    "\n",
    "cleaned_Yellow_2015_3=cleaned_Yellow_2015_3[(cleaned_Yellow_2015_3[\"tpep_pickup_datetime\"]<'2015-03-31 23:59:59') & \n",
    "                                                (cleaned_Yellow_2015_3[\"tpep_pickup_datetime\"]>'2015-03-01 00:00:00')]\n",
    "cleaned_Yellow_2015_3=cleaned_Yellow_2015_3[(cleaned_Yellow_2015_3[\"tpep_dropoff_datetime\"]<'2015-03-31 23:59:59') & \n",
    "                                                (cleaned_Yellow_2015_3[\"tpep_dropoff_datetime\"]>'2015-03-01 00:00:00')]\n",
    "\n",
    "cleaned_Yellow_2015_3=cleaned_Yellow_2015_3[(cleaned_Yellow_2015_3[\"payment_type\"]==payment_type_1) | \n",
    "                                                (cleaned_Yellow_2015_3[\"payment_type\"]==payment_type_2)]\n",
    "\n",
    "cleaned_Yellow_2015_3=cleaned_Yellow_2015_3[(cleaned_Yellow_2015_3[\"fare_amount\"]>=min_amount)]\n",
    "cleaned_Yellow_2015_3=cleaned_Yellow_2015_3[(cleaned_Yellow_2015_3[\"total_amount\"]>=min_amount) & \n",
    "                                                (cleaned_Yellow_2015_3[\"total_amount\"]<=max_amount)]\n",
    "\n",
    "cleaned_Yellow_2015_3.to_pickle('../preprocessed_data/cleaned_yellow_tripdata_2015-03.pkl')"
   ],
   "outputs": [],
   "metadata": {}
  },
  {
   "cell_type": "code",
   "execution_count": 17,
   "source": [
    "#yellow taxi data\n",
    "df_Yellow_2016_1 = pd.read_csv(\"../raw_data/yellow_tripdata_2016-01.csv\")"
   ],
   "outputs": [],
   "metadata": {}
  },
  {
   "cell_type": "code",
   "execution_count": 18,
   "source": [
    "#feature preprocessing (remove unreasonable data)\n",
    "cleaned_Yellow_2016_1=df_Yellow_2016_1.loc[(df_Yellow_2016_1[\"passenger_count\"]>=min_passenger_count)&\n",
    "                                             (df_Yellow_2016_1[\"passenger_count\"]<=max_passenger_count)]\n",
    "cleaned_Yellow_2016_1=cleaned_Yellow_2016_1[(cleaned_Yellow_2016_1[\"trip_distance\"]>min_trip_distance)&\n",
    "                                            (cleaned_Yellow_2016_1[\"trip_distance\"]<max_trip_distance)]\n",
    "cleaned_Yellow_2016_1=cleaned_Yellow_2016_1[(cleaned_Yellow_2016_1[\"tpep_pickup_datetime\"]<'2016-01-31 23:59:59') & \n",
    "                                                (cleaned_Yellow_2016_1[\"tpep_pickup_datetime\"]>'2016-01-01 00:00:00')]\n",
    "cleaned_Yellow_2016_1=cleaned_Yellow_2016_1[(cleaned_Yellow_2016_1[\"tpep_dropoff_datetime\"]<'2016-01-31 23:59:59') & \n",
    "                                                (cleaned_Yellow_2016_1[\"tpep_dropoff_datetime\"]>'2016-01-01 00:00:00')]\n",
    "\n",
    "cleaned_Yellow_2016_1=cleaned_Yellow_2016_1[(cleaned_Yellow_2016_1[\"payment_type\"]==payment_type_1) | \n",
    "                                                (cleaned_Yellow_2016_1[\"payment_type\"]==payment_type_2)]\n",
    "\n",
    "cleaned_Yellow_2016_1=cleaned_Yellow_2016_1[(cleaned_Yellow_2016_1[\"fare_amount\"]>=min_amount)]\n",
    "cleaned_Yellow_2016_1=cleaned_Yellow_2016_1[(cleaned_Yellow_2016_1[\"total_amount\"]>=min_amount) & \n",
    "                                                (cleaned_Yellow_2016_1[\"total_amount\"]<=max_amount)]\n",
    "\n",
    "Q1_coords = cleaned_Yellow_2016_1[COORDS].quantile(0.25)\n",
    "Q3_coords = cleaned_Yellow_2016_1[COORDS].quantile(0.75)\n",
    "IQR_coords = Q3_coords - Q1_coords  #IQR is interquartile range. \n",
    "\n",
    "cleaned_Yellow_2016_1 = cleaned_Yellow_2016_1[~((cleaned_Yellow_2016_1[COORDS] < (Q1_coords - 5 * IQR_coords)) |\n",
    "                        (cleaned_Yellow_2016_1[COORDS] > (Q3_coords + 5 * IQR_coords))).any(axis=1)]\n",
    "\n",
    "Q1_amount = cleaned_Yellow_2016_1[amount].quantile(0.25)\n",
    "Q3_amount = cleaned_Yellow_2016_1[amount].quantile(0.75)\n",
    "IQR_amount = Q3_amount - Q1_amount  #IQR is interquartile range. \n",
    "\n",
    "cleaned_Yellow_2016_1 = cleaned_Yellow_2016_1[~((cleaned_Yellow_2016_1[amount] < (Q1_amount - 5 * IQR_amount)) |\n",
    "                        (cleaned_Yellow_2016_1[amount] > (Q3_amount + 5 * IQR_amount))).any(axis=1)]\n",
    "\n",
    "cleaned_Yellow_2016_1.to_pickle('../preprocessed_data/cleaned_yellow_tripdata_2016_01.pkl')"
   ],
   "outputs": [],
   "metadata": {}
  },
  {
   "cell_type": "code",
   "execution_count": 4,
   "source": [
    "df_Yellow_2015_1=pd.read_pickle('../preprocessed_data/cleaned_yellow_tripdata_2015-01.pkl')\n",
    "df_Yellow_2015_2=pd.read_pickle('../preprocessed_data/cleaned_yellow_tripdata_2015-02.pkl')\n",
    "df_Yellow_2015_3=pd.read_pickle('../preprocessed_data/cleaned_yellow_tripdata_2015-03.pkl')\n",
    "\n",
    "#concat the data vertically\n",
    "Yellow_2015_data=pd.concat([df_Yellow_2015_1, df_Yellow_2015_2, df_Yellow_2015_3])"
   ],
   "outputs": [],
   "metadata": {}
  },
  {
   "cell_type": "code",
   "execution_count": null,
   "source": [
    "#detect coordinates outliers\n",
    "Yellow_2015_data_coord_boxplot=Yellow_2015_data.boxplot(column=COORDS,rot=45, fontsize=10)"
   ],
   "outputs": [],
   "metadata": {}
  },
  {
   "cell_type": "code",
   "execution_count": null,
   "source": [
    "# detect fare outliers\n",
    "Yellow_2015_data_amount_boxplot=Yellow_2015_data.boxplot(column=amount_fare,rot=45, fontsize=10)"
   ],
   "outputs": [],
   "metadata": {}
  },
  {
   "cell_type": "code",
   "execution_count": null,
   "source": [
    "# detect passengers and distance outliers\n",
    "Yellow_2015_data_trip_boxplot=Yellow_2015_data.boxplot(column=trip_detail,rot=45, fontsize=10)"
   ],
   "outputs": [],
   "metadata": {}
  },
  {
   "cell_type": "code",
   "execution_count": 5,
   "source": [
    "#remove outlies\n",
    "Q1_coords = Yellow_2015_data[COORDS].quantile(0.25)\n",
    "Q3_coords = Yellow_2015_data[COORDS].quantile(0.75)\n",
    "IQR_coords = Q3_coords - Q1_coords  #IQR is interquartile range. \n",
    "\n",
    "Yellow_2015_data = Yellow_2015_data[~((Yellow_2015_data[COORDS] < (Q1_coords - 5 * IQR_coords)) |\n",
    "                        (Yellow_2015_data[COORDS] > (Q3_coords + 5 * IQR_coords))).any(axis=1)]\n",
    "\n",
    "Q1_amount = Yellow_2015_data[amount].quantile(0.25)\n",
    "Q3_amount = Yellow_2015_data[amount].quantile(0.75)\n",
    "IQR_amount = Q3_amount - Q1_amount  #IQR is interquartile range. \n",
    "\n",
    "Yellow_2015_data = Yellow_2015_data[~((Yellow_2015_data[amount] < (Q1_amount - 5 * IQR_amount)) |\n",
    "                        (Yellow_2015_data[amount] > (Q3_amount + 5 * IQR_amount))).any(axis=1)]\n"
   ],
   "outputs": [],
   "metadata": {}
  },
  {
   "cell_type": "code",
   "execution_count": null,
   "source": [
    "#detect coordinates outliers after preprocessing\n",
    "Yellow_2015_data_coord_boxplot=Yellow_2015_data.boxplot(column=COORDS,rot=45, fontsize=10)"
   ],
   "outputs": [],
   "metadata": {}
  },
  {
   "cell_type": "code",
   "execution_count": null,
   "source": [
    "# detect fare outliers after preprocessing\n",
    "Yellow_2015_data_amount_boxplot=Yellow_2015_data.boxplot(column=amount_fare,rot=45, fontsize=10)"
   ],
   "outputs": [],
   "metadata": {}
  },
  {
   "cell_type": "code",
   "execution_count": null,
   "source": [
    "# detect passengers and distance outliers after preprocessing\n",
    "Yellow_2015_data_trip_boxplot=Yellow_2015_data.boxplot(column=trip_detail,rot=45, fontsize=10)"
   ],
   "outputs": [],
   "metadata": {}
  },
  {
   "cell_type": "code",
   "execution_count": 7,
   "source": [
    "#save data\n",
    "Yellow_2015_data.to_pickle('../preprocessed_data/cleaned_yellow_tripdata_2015.pkl')"
   ],
   "outputs": [],
   "metadata": {}
  },
  {
   "cell_type": "code",
   "execution_count": 10,
   "source": [
    "Yellow_2015_data=pd.read_pickle('../preprocessed_data/cleaned_yellow_tripdata_2015.pkl')"
   ],
   "outputs": [],
   "metadata": {}
  },
  {
   "cell_type": "code",
   "execution_count": 11,
   "source": [
    "#remove some attributes we will not use later\n",
    "Yellow_2015_data=Yellow_2015_data.drop(['VendorID','RateCodeID','store_and_fwd_flag','extra','mta_tax',\n",
    "                                        'tolls_amount','improvement_surcharge'],axis='columns')"
   ],
   "outputs": [],
   "metadata": {}
  },
  {
   "cell_type": "code",
   "execution_count": 13,
   "source": [
    "Yellow_2015_data.to_pickle('../preprocessed_data/drop_yellow_tripdata_2015.pkl')"
   ],
   "outputs": [],
   "metadata": {}
  }
 ],
 "metadata": {
  "kernelspec": {
   "name": "python3",
   "display_name": "Python 3.8.5 64-bit ('base': conda)"
  },
  "language_info": {
   "codemirror_mode": {
    "name": "ipython",
    "version": 3
   },
   "file_extension": ".py",
   "mimetype": "text/x-python",
   "name": "python",
   "nbconvert_exporter": "python",
   "pygments_lexer": "ipython3",
   "version": "3.8.5"
  },
  "interpreter": {
   "hash": "dca0ade3e726a953b501b15e8e990130d2b7799f14cfd9f4271676035ebe5511"
  }
 },
 "nbformat": 4,
 "nbformat_minor": 4
}